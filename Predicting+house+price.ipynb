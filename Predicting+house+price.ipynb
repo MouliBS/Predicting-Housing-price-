{
 "cells": [
  {
   "cell_type": "markdown",
   "metadata": {},
   "source": [
    "# 1. Predicting house prices: a MLP regression example\n",
    "\n",
    "We will be attempting to predict the median price of homes in a given Boston suburb in the mid-1970s, given a few data points about the \n",
    "suburb at the time, such as the crime rate, the local property tax rate, etc.\n",
    "\n",
    "The dataset has very few data points, only 506 in \n",
    "total, split between 404 training samples and 102 test samples, and each \"feature\" in the input data (e.g. the crime rate is a feature) has \n",
    "a different scale. For instance some values are proportions, which take a values between 0 and 1, others take values between 1 and 12, \n",
    "others between 0 and 100...\n",
    "\n",
    "Let's take a look at the data:"
   ]
  },
  {
   "cell_type": "code",
   "execution_count": 5,
   "metadata": {},
   "outputs": [],
   "source": [
    "from keras.datasets import boston_housing\n",
    "\n",
    "(train_data, train_targets), (test_data, test_targets) =  boston_housing.load_data()"
   ]
  },
  {
   "cell_type": "code",
   "execution_count": 6,
   "metadata": {},
   "outputs": [
    {
     "data": {
      "text/plain": [
       "(404, 13)"
      ]
     },
     "execution_count": 6,
     "metadata": {},
     "output_type": "execute_result"
    }
   ],
   "source": [
    "train_data.shape"
   ]
  },
  {
   "cell_type": "code",
   "execution_count": 8,
   "metadata": {},
   "outputs": [
    {
     "data": {
      "text/plain": [
       "(102, 13)"
      ]
     },
     "execution_count": 8,
     "metadata": {},
     "output_type": "execute_result"
    }
   ],
   "source": [
    "test_data.shape"
   ]
  },
  {
   "cell_type": "code",
   "execution_count": 9,
   "metadata": {},
   "outputs": [
    {
     "data": {
      "text/html": [
       "<div>\n",
       "<style>\n",
       "    .dataframe thead tr:only-child th {\n",
       "        text-align: right;\n",
       "    }\n",
       "\n",
       "    .dataframe thead th {\n",
       "        text-align: left;\n",
       "    }\n",
       "\n",
       "    .dataframe tbody tr th {\n",
       "        vertical-align: top;\n",
       "    }\n",
       "</style>\n",
       "<table border=\"1\" class=\"dataframe\">\n",
       "  <thead>\n",
       "    <tr style=\"text-align: right;\">\n",
       "      <th></th>\n",
       "      <th>0</th>\n",
       "      <th>1</th>\n",
       "      <th>2</th>\n",
       "      <th>3</th>\n",
       "      <th>4</th>\n",
       "      <th>5</th>\n",
       "      <th>6</th>\n",
       "      <th>7</th>\n",
       "      <th>8</th>\n",
       "      <th>9</th>\n",
       "      <th>10</th>\n",
       "      <th>11</th>\n",
       "      <th>12</th>\n",
       "    </tr>\n",
       "  </thead>\n",
       "  <tbody>\n",
       "    <tr>\n",
       "      <th>count</th>\n",
       "      <td>404.000000</td>\n",
       "      <td>404.000000</td>\n",
       "      <td>404.000000</td>\n",
       "      <td>404.000000</td>\n",
       "      <td>404.000000</td>\n",
       "      <td>404.000000</td>\n",
       "      <td>404.000000</td>\n",
       "      <td>404.000000</td>\n",
       "      <td>404.000000</td>\n",
       "      <td>404.000000</td>\n",
       "      <td>404.000000</td>\n",
       "      <td>404.000000</td>\n",
       "      <td>404.000000</td>\n",
       "    </tr>\n",
       "    <tr>\n",
       "      <th>mean</th>\n",
       "      <td>3.745111</td>\n",
       "      <td>11.480198</td>\n",
       "      <td>11.104431</td>\n",
       "      <td>0.061881</td>\n",
       "      <td>0.557356</td>\n",
       "      <td>6.267082</td>\n",
       "      <td>69.010644</td>\n",
       "      <td>3.740271</td>\n",
       "      <td>9.440594</td>\n",
       "      <td>405.898515</td>\n",
       "      <td>18.475990</td>\n",
       "      <td>354.783168</td>\n",
       "      <td>12.740817</td>\n",
       "    </tr>\n",
       "    <tr>\n",
       "      <th>std</th>\n",
       "      <td>9.240734</td>\n",
       "      <td>23.767711</td>\n",
       "      <td>6.811308</td>\n",
       "      <td>0.241238</td>\n",
       "      <td>0.117293</td>\n",
       "      <td>0.709788</td>\n",
       "      <td>27.940665</td>\n",
       "      <td>2.030215</td>\n",
       "      <td>8.698360</td>\n",
       "      <td>166.374543</td>\n",
       "      <td>2.200382</td>\n",
       "      <td>94.111148</td>\n",
       "      <td>7.254545</td>\n",
       "    </tr>\n",
       "    <tr>\n",
       "      <th>min</th>\n",
       "      <td>0.006320</td>\n",
       "      <td>0.000000</td>\n",
       "      <td>0.460000</td>\n",
       "      <td>0.000000</td>\n",
       "      <td>0.385000</td>\n",
       "      <td>3.561000</td>\n",
       "      <td>2.900000</td>\n",
       "      <td>1.129600</td>\n",
       "      <td>1.000000</td>\n",
       "      <td>188.000000</td>\n",
       "      <td>12.600000</td>\n",
       "      <td>0.320000</td>\n",
       "      <td>1.730000</td>\n",
       "    </tr>\n",
       "    <tr>\n",
       "      <th>25%</th>\n",
       "      <td>0.081437</td>\n",
       "      <td>0.000000</td>\n",
       "      <td>5.130000</td>\n",
       "      <td>0.000000</td>\n",
       "      <td>0.453000</td>\n",
       "      <td>5.874750</td>\n",
       "      <td>45.475000</td>\n",
       "      <td>2.077100</td>\n",
       "      <td>4.000000</td>\n",
       "      <td>279.000000</td>\n",
       "      <td>17.225000</td>\n",
       "      <td>374.672500</td>\n",
       "      <td>6.890000</td>\n",
       "    </tr>\n",
       "    <tr>\n",
       "      <th>50%</th>\n",
       "      <td>0.268880</td>\n",
       "      <td>0.000000</td>\n",
       "      <td>9.690000</td>\n",
       "      <td>0.000000</td>\n",
       "      <td>0.538000</td>\n",
       "      <td>6.198500</td>\n",
       "      <td>78.500000</td>\n",
       "      <td>3.142300</td>\n",
       "      <td>5.000000</td>\n",
       "      <td>330.000000</td>\n",
       "      <td>19.100000</td>\n",
       "      <td>391.250000</td>\n",
       "      <td>11.395000</td>\n",
       "    </tr>\n",
       "    <tr>\n",
       "      <th>75%</th>\n",
       "      <td>3.674808</td>\n",
       "      <td>12.500000</td>\n",
       "      <td>18.100000</td>\n",
       "      <td>0.000000</td>\n",
       "      <td>0.631000</td>\n",
       "      <td>6.609000</td>\n",
       "      <td>94.100000</td>\n",
       "      <td>5.118000</td>\n",
       "      <td>24.000000</td>\n",
       "      <td>666.000000</td>\n",
       "      <td>20.200000</td>\n",
       "      <td>396.157500</td>\n",
       "      <td>17.092500</td>\n",
       "    </tr>\n",
       "    <tr>\n",
       "      <th>max</th>\n",
       "      <td>88.976200</td>\n",
       "      <td>100.000000</td>\n",
       "      <td>27.740000</td>\n",
       "      <td>1.000000</td>\n",
       "      <td>0.871000</td>\n",
       "      <td>8.725000</td>\n",
       "      <td>100.000000</td>\n",
       "      <td>10.710300</td>\n",
       "      <td>24.000000</td>\n",
       "      <td>711.000000</td>\n",
       "      <td>22.000000</td>\n",
       "      <td>396.900000</td>\n",
       "      <td>37.970000</td>\n",
       "    </tr>\n",
       "  </tbody>\n",
       "</table>\n",
       "</div>"
      ],
      "text/plain": [
       "               0           1           2           3           4           5   \\\n",
       "count  404.000000  404.000000  404.000000  404.000000  404.000000  404.000000   \n",
       "mean     3.745111   11.480198   11.104431    0.061881    0.557356    6.267082   \n",
       "std      9.240734   23.767711    6.811308    0.241238    0.117293    0.709788   \n",
       "min      0.006320    0.000000    0.460000    0.000000    0.385000    3.561000   \n",
       "25%      0.081437    0.000000    5.130000    0.000000    0.453000    5.874750   \n",
       "50%      0.268880    0.000000    9.690000    0.000000    0.538000    6.198500   \n",
       "75%      3.674808   12.500000   18.100000    0.000000    0.631000    6.609000   \n",
       "max     88.976200  100.000000   27.740000    1.000000    0.871000    8.725000   \n",
       "\n",
       "               6           7           8           9           10          11  \\\n",
       "count  404.000000  404.000000  404.000000  404.000000  404.000000  404.000000   \n",
       "mean    69.010644    3.740271    9.440594  405.898515   18.475990  354.783168   \n",
       "std     27.940665    2.030215    8.698360  166.374543    2.200382   94.111148   \n",
       "min      2.900000    1.129600    1.000000  188.000000   12.600000    0.320000   \n",
       "25%     45.475000    2.077100    4.000000  279.000000   17.225000  374.672500   \n",
       "50%     78.500000    3.142300    5.000000  330.000000   19.100000  391.250000   \n",
       "75%     94.100000    5.118000   24.000000  666.000000   20.200000  396.157500   \n",
       "max    100.000000   10.710300   24.000000  711.000000   22.000000  396.900000   \n",
       "\n",
       "               12  \n",
       "count  404.000000  \n",
       "mean    12.740817  \n",
       "std      7.254545  \n",
       "min      1.730000  \n",
       "25%      6.890000  \n",
       "50%     11.395000  \n",
       "75%     17.092500  \n",
       "max     37.970000  "
      ]
     },
     "execution_count": 9,
     "metadata": {},
     "output_type": "execute_result"
    }
   ],
   "source": [
    "import pandas as pd\n",
    "df_train = pd.DataFrame(train_data)\n",
    "df_train.describe()"
   ]
  },
  {
   "cell_type": "markdown",
   "metadata": {},
   "source": [
    "\n",
    "As you can see, we have 404 training samples and 102 test samples. The data comprises 13 features. The 13 features in the input data are as \n",
    "follow:\n",
    "\n",
    "1. Per capita crime rate.\n",
    "2. Proportion of residential land zoned for lots over 25,000 square feet.\n",
    "3. Proportion of non-retail business acres per town.\n",
    "4. Charles River dummy variable (= 1 if tract bounds river; 0 otherwise).\n",
    "5. Nitric oxides concentration (parts per 10 million).\n",
    "6. Average number of rooms per dwelling.\n",
    "7. Proportion of owner-occupied units built prior to 1940.\n",
    "8. Weighted distances to five Boston employment centres.\n",
    "9. Index of accessibility to radial highways.\n",
    "10. Full-value property-tax rate per $10,000.\n",
    "11. Pupil-teacher ratio by town.\n",
    "12. 1000 * (Bk - 0.63) ** 2 where Bk is the proportion of Black people by town.\n",
    "13. % lower status of the population.\n",
    "\n",
    "The targets are the median values of owner-occupied homes, in thousands of dollars:"
   ]
  },
  {
   "cell_type": "code",
   "execution_count": 10,
   "metadata": {},
   "outputs": [
    {
     "data": {
      "image/png": "[encoded data removed]",
      "text/plain": [
       "<matplotlib.figure.Figure at 0x227272d0588>"
      ]
     },
     "metadata": {},
     "output_type": "display_data"
    }
   ],
   "source": [
    "import matplotlib.pyplot as plt\n",
    "plt.hist(train_targets)\n",
    "plt.show()"
   ]
  },
  {
   "cell_type": "markdown",
   "metadata": {},
   "source": [
    "\n",
    "The prices are typically between \\$10,000 and \\$35,000. If that sounds cheap, remember this was the mid-1970s, and these prices are not \n",
    "inflation-adjusted."
   ]
  },
  {
   "cell_type": "markdown",
   "metadata": {},
   "source": [
    "## Preparing the data: Nomalization\n",
    "\n",
    "\n",
    "It would be problematic to feed into a neural network values that all take wildly different ranges. The network might be able to \n",
    "automatically adapt to such heterogeneous data, but it would definitely make learning more difficult. A widespread best practice to deal \n",
    "with such data is to do feature-wise normalization: for each feature in the input data (a column in the input data matrix), we \n",
    "will subtract the mean of the feature and divide by the standard deviation, so that the feature will be centered around 0 and will have a \n",
    "unit standard deviation. This is easily done in Numpy:"
   ]
  },
  {
   "cell_type": "code",
   "execution_count": 11,
   "metadata": {},
   "outputs": [],
   "source": [
    "mean = train_data.mean(axis=0)\n",
    "train_data -= mean\n",
    "std = train_data.std(axis=0)\n",
    "train_data /= std\n",
    "\n",
    "test_data -= mean\n",
    "test_data /= std"
   ]
  },
  {
   "cell_type": "code",
   "execution_count": 12,
   "metadata": {},
   "outputs": [
    {
     "data": {
      "text/html": [
       "<div>\n",
       "<style>\n",
       "    .dataframe thead tr:only-child th {\n",
       "        text-align: right;\n",
       "    }\n",
       "\n",
       "    .dataframe thead th {\n",
       "        text-align: left;\n",
       "    }\n",
       "\n",
       "    .dataframe tbody tr th {\n",
       "        vertical-align: top;\n",
       "    }\n",
       "</style>\n",
       "<table border=\"1\" class=\"dataframe\">\n",
       "  <thead>\n",
       "    <tr style=\"text-align: right;\">\n",
       "      <th></th>\n",
       "      <th>0</th>\n",
       "      <th>1</th>\n",
       "      <th>2</th>\n",
       "      <th>3</th>\n",
       "      <th>4</th>\n",
       "      <th>5</th>\n",
       "      <th>6</th>\n",
       "      <th>7</th>\n",
       "      <th>8</th>\n",
       "      <th>9</th>\n",
       "      <th>10</th>\n",
       "      <th>11</th>\n",
       "      <th>12</th>\n",
       "    </tr>\n",
       "  </thead>\n",
       "  <tbody>\n",
       "    <tr>\n",
       "      <th>count</th>\n",
       "      <td>4.040000e+02</td>\n",
       "      <td>4.040000e+02</td>\n",
       "      <td>4.040000e+02</td>\n",
       "      <td>4.040000e+02</td>\n",
       "      <td>4.040000e+02</td>\n",
       "      <td>4.040000e+02</td>\n",
       "      <td>4.040000e+02</td>\n",
       "      <td>4.040000e+02</td>\n",
       "      <td>4.040000e+02</td>\n",
       "      <td>4.040000e+02</td>\n",
       "      <td>4.040000e+02</td>\n",
       "      <td>4.040000e+02</td>\n",
       "      <td>4.040000e+02</td>\n",
       "    </tr>\n",
       "    <tr>\n",
       "      <th>mean</th>\n",
       "      <td>-1.015414e-16</td>\n",
       "      <td>1.099231e-17</td>\n",
       "      <td>1.809334e-15</td>\n",
       "      <td>-7.804538e-17</td>\n",
       "      <td>-5.250476e-15</td>\n",
       "      <td>6.431874e-15</td>\n",
       "      <td>2.984411e-16</td>\n",
       "      <td>4.946538e-16</td>\n",
       "      <td>1.126711e-17</td>\n",
       "      <td>-1.055261e-16</td>\n",
       "      <td>2.366149e-14</td>\n",
       "      <td>5.967105e-15</td>\n",
       "      <td>6.139204e-16</td>\n",
       "    </tr>\n",
       "    <tr>\n",
       "      <th>std</th>\n",
       "      <td>1.001240e+00</td>\n",
       "      <td>1.001240e+00</td>\n",
       "      <td>1.001240e+00</td>\n",
       "      <td>1.001240e+00</td>\n",
       "      <td>1.001240e+00</td>\n",
       "      <td>1.001240e+00</td>\n",
       "      <td>1.001240e+00</td>\n",
       "      <td>1.001240e+00</td>\n",
       "      <td>1.001240e+00</td>\n",
       "      <td>1.001240e+00</td>\n",
       "      <td>1.001240e+00</td>\n",
       "      <td>1.001240e+00</td>\n",
       "      <td>1.001240e+00</td>\n",
       "    </tr>\n",
       "    <tr>\n",
       "      <th>min</th>\n",
       "      <td>-4.051005e-01</td>\n",
       "      <td>-4.836155e-01</td>\n",
       "      <td>-1.564696e+00</td>\n",
       "      <td>-2.568327e-01</td>\n",
       "      <td>-1.471269e+00</td>\n",
       "      <td>-3.817250e+00</td>\n",
       "      <td>-2.369042e+00</td>\n",
       "      <td>-1.287503e+00</td>\n",
       "      <td>-9.715693e-01</td>\n",
       "      <td>-1.311311e+00</td>\n",
       "      <td>-2.673752e+00</td>\n",
       "      <td>-3.771101e+00</td>\n",
       "      <td>-1.519664e+00</td>\n",
       "    </tr>\n",
       "    <tr>\n",
       "      <th>25%</th>\n",
       "      <td>-3.969615e-01</td>\n",
       "      <td>-4.836155e-01</td>\n",
       "      <td>-8.782218e-01</td>\n",
       "      <td>-2.568327e-01</td>\n",
       "      <td>-8.908055e-01</td>\n",
       "      <td>-5.534305e-01</td>\n",
       "      <td>-8.433882e-01</td>\n",
       "      <td>-8.202251e-01</td>\n",
       "      <td>-6.262491e-01</td>\n",
       "      <td>-7.636737e-01</td>\n",
       "      <td>-5.692381e-01</td>\n",
       "      <td>2.116008e-01</td>\n",
       "      <td>-8.075036e-01</td>\n",
       "    </tr>\n",
       "    <tr>\n",
       "      <th>50%</th>\n",
       "      <td>-3.766520e-01</td>\n",
       "      <td>-4.836155e-01</td>\n",
       "      <td>-2.079167e-01</td>\n",
       "      <td>-2.568327e-01</td>\n",
       "      <td>-1.652266e-01</td>\n",
       "      <td>-9.674263e-02</td>\n",
       "      <td>3.400464e-01</td>\n",
       "      <td>-2.949009e-01</td>\n",
       "      <td>-5.111423e-01</td>\n",
       "      <td>-4.567563e-01</td>\n",
       "      <td>2.839433e-01</td>\n",
       "      <td>3.879673e-01</td>\n",
       "      <td>-1.857436e-01</td>\n",
       "    </tr>\n",
       "    <tr>\n",
       "      <th>75%</th>\n",
       "      <td>-7.617386e-03</td>\n",
       "      <td>4.296024e-02</td>\n",
       "      <td>1.028326e+00</td>\n",
       "      <td>-2.568327e-01</td>\n",
       "      <td>6.286420e-01</td>\n",
       "      <td>4.823165e-01</td>\n",
       "      <td>8.990647e-01</td>\n",
       "      <td>6.794540e-01</td>\n",
       "      <td>1.675886e+00</td>\n",
       "      <td>1.565287e+00</td>\n",
       "      <td>7.844764e-01</td>\n",
       "      <td>4.401777e-01</td>\n",
       "      <td>6.005999e-01</td>\n",
       "    </tr>\n",
       "    <tr>\n",
       "      <th>max</th>\n",
       "      <td>9.234847e+00</td>\n",
       "      <td>3.728990e+00</td>\n",
       "      <td>2.445374e+00</td>\n",
       "      <td>3.893584e+00</td>\n",
       "      <td>2.677335e+00</td>\n",
       "      <td>3.467186e+00</td>\n",
       "      <td>1.110488e+00</td>\n",
       "      <td>3.437406e+00</td>\n",
       "      <td>1.675886e+00</td>\n",
       "      <td>1.836097e+00</td>\n",
       "      <td>1.603531e+00</td>\n",
       "      <td>4.480771e-01</td>\n",
       "      <td>3.482019e+00</td>\n",
       "    </tr>\n",
       "  </tbody>\n",
       "</table>\n",
       "</div>"
      ],
      "text/plain": [
       "                 0             1             2             3             4   \\\n",
       "count  4.040000e+02  4.040000e+02  4.040000e+02  4.040000e+02  4.040000e+02   \n",
       "mean  -1.015414e-16  1.099231e-17  1.809334e-15 -7.804538e-17 -5.250476e-15   \n",
       "std    1.001240e+00  1.001240e+00  1.001240e+00  1.001240e+00  1.001240e+00   \n",
       "min   -4.051005e-01 -4.836155e-01 -1.564696e+00 -2.568327e-01 -1.471269e+00   \n",
       "25%   -3.969615e-01 -4.836155e-01 -8.782218e-01 -2.568327e-01 -8.908055e-01   \n",
       "50%   -3.766520e-01 -4.836155e-01 -2.079167e-01 -2.568327e-01 -1.652266e-01   \n",
       "75%   -7.617386e-03  4.296024e-02  1.028326e+00 -2.568327e-01  6.286420e-01   \n",
       "max    9.234847e+00  3.728990e+00  2.445374e+00  3.893584e+00  2.677335e+00   \n",
       "\n",
       "                 5             6             7             8             9   \\\n",
       "count  4.040000e+02  4.040000e+02  4.040000e+02  4.040000e+02  4.040000e+02   \n",
       "mean   6.431874e-15  2.984411e-16  4.946538e-16  1.126711e-17 -1.055261e-16   \n",
       "std    1.001240e+00  1.001240e+00  1.001240e+00  1.001240e+00  1.001240e+00   \n",
       "min   -3.817250e+00 -2.369042e+00 -1.287503e+00 -9.715693e-01 -1.311311e+00   \n",
       "25%   -5.534305e-01 -8.433882e-01 -8.202251e-01 -6.262491e-01 -7.636737e-01   \n",
       "50%   -9.674263e-02  3.400464e-01 -2.949009e-01 -5.111423e-01 -4.567563e-01   \n",
       "75%    4.823165e-01  8.990647e-01  6.794540e-01  1.675886e+00  1.565287e+00   \n",
       "max    3.467186e+00  1.110488e+00  3.437406e+00  1.675886e+00  1.836097e+00   \n",
       "\n",
       "                 10            11            12  \n",
       "count  4.040000e+02  4.040000e+02  4.040000e+02  \n",
       "mean   2.366149e-14  5.967105e-15  6.139204e-16  \n",
       "std    1.001240e+00  1.001240e+00  1.001240e+00  \n",
       "min   -2.673752e+00 -3.771101e+00 -1.519664e+00  \n",
       "25%   -5.692381e-01  2.116008e-01 -8.075036e-01  \n",
       "50%    2.839433e-01  3.879673e-01 -1.857436e-01  \n",
       "75%    7.844764e-01  4.401777e-01  6.005999e-01  \n",
       "max    1.603531e+00  4.480771e-01  3.482019e+00  "
      ]
     },
     "execution_count": 12,
     "metadata": {},
     "output_type": "execute_result"
    }
   ],
   "source": [
    "df_train.describe()## to understand the effect of feature normalization "
   ]
  },
  {
   "cell_type": "markdown",
   "metadata": {},
   "source": [
    "\n",
    "Note that the quantities that we use for normalizing the test data have been computed using the training data. We should never use in our \n",
    "workflow any quantity computed on the test data, even for something as simple as data normalization."
   ]
  },
  {
   "cell_type": "markdown",
   "metadata": {},
   "source": [
    "## Building our network\n",
    "\n",
    "\n",
    "Because so few samples are available, we will be using a very small network with two \n",
    "hidden layers, each with 64 units. In general, the less training data you have, the worse overfitting will be, and using \n",
    "a small network is one way to mitigate overfitting."
   ]
  },
  {
   "cell_type": "code",
   "execution_count": 14,
   "metadata": {
    "collapsed": true
   },
   "outputs": [],
   "source": [
    "from keras import models\n",
    "from keras import layers\n",
    "\n",
    "def build_model():\n",
    "    # Because we will need to instantiate\n",
    "    # the same model multiple times,\n",
    "    # we use a function to construct it.\n",
    "    model = models.Sequential()\n",
    "    model.add(layers.Dense(64, activation='relu',\n",
    "                           input_shape=(train_data.shape[1],)))\n",
    "    model.add(layers.Dense(64, activation='relu'))\n",
    "    model.add(layers.Dense(1))\n",
    "    model.compile(optimizer='rmsprop', loss='mse', metrics=['mae'])\n",
    "    return model"
   ]
  },
  {
   "cell_type": "markdown",
   "metadata": {},
   "source": [
    "\n",
    "Our network ends with a single unit, and no activation (i.e. it will be linear layer). \n",
    "This is a typical setup for scalar regression (i.e. regression where we are trying to predict a single continuous value). \n",
    "Applying an activation function would constrain the range that the output can take; for instance if \n",
    "we applied a `sigmoid` activation function to our last layer, the network could only learn to predict values between 0 and 1. Here, because \n",
    "the last layer is purely linear, the network is free to learn to predict values in any range.\n",
    "\n",
    "Note that we are compiling the network with the `mse` loss function -- **Mean Squared Error**, the square of the difference between the \n",
    "predictions and the targets, a widely used loss function for regression problems.\n",
    "\n",
    "We are also monitoring a new metric during training: `mae`. This stands for **Mean Absolute Error**. It is simply the absolute value of the \n",
    "difference between the predictions and the targets. For instance, a MAE of 0.5 on this problem would mean that our predictions are off by \n",
    "\\$500 on average."
   ]
  },
  {
   "cell_type": "markdown",
   "metadata": {},
   "source": [
    "## Validating our approach using K-fold validation\n",
    "\n",
    "\n",
    "To evaluate our network while we keep adjusting its parameters (such as the number of epochs used for training), we could simply split the \n",
    "data into a training set and a validation set, as we were doing in our previous examples. However, because we have **so few data points**, the \n",
    "validation set would end up being very small (e.g. about 100 examples). A consequence is that our validation scores may change a lot \n",
    "depending on _which_ data points we choose to use for validation and which we choose for training, i.e. the validation scores may have a \n",
    "high _variance_ with regard to the validation split. This would prevent us from reliably evaluating our model.\n",
    "\n",
    "The best practice in such situations is to use **K-fold cross-validation**. It consists of splitting the available data into K partitions \n",
    "(typically K=4 or 5), then instantiating K identical models, and training each one on K-1 partitions while evaluating on the remaining \n",
    "partition. The validation score for the model used would then be the average of the K validation scores obtained."
   ]
  },
  {
   "cell_type": "markdown",
   "metadata": {},
   "source": [
    "\n",
    "\n"
   ]
  },
  {
   "cell_type": "code",
   "execution_count": 15,
   "metadata": {},
   "outputs": [
    {
     "name": "stdout",
     "output_type": "stream",
     "text": [
      "processing fold # 0\n",
      "processing fold # 1\n",
      "processing fold # 2\n",
      "processing fold # 3\n"
     ]
    }
   ],
   "source": [
    "import numpy as np\n",
    "\n",
    "k = 4\n",
    "num_val_samples = len(train_data) // k\n",
    "num_epochs = 100\n",
    "all_scores = []\n",
    "for i in range(k):\n",
    "    print('processing fold #', i)\n",
    "    # Prepare the validation data: data from partition # k\n",
    "    val_data = train_data[i * num_val_samples: (i + 1) * num_val_samples]\n",
    "    val_targets = train_targets[i * num_val_samples: (i + 1) * num_val_samples]\n",
    "\n",
    "    # Prepare the training data: data from all other partitions\n",
    "    partial_train_data = np.concatenate(\n",
    "        [train_data[:i * num_val_samples],\n",
    "         train_data[(i + 1) * num_val_samples:]],\n",
    "        axis=0)\n",
    "    partial_train_targets = np.concatenate(\n",
    "        [train_targets[:i * num_val_samples],\n",
    "         train_targets[(i + 1) * num_val_samples:]],\n",
    "        axis=0)\n",
    "\n",
    "    # Build the Keras model (already compiled)\n",
    "    model = build_model()\n",
    "    # Train the model (in silent mode, verbose=0)\n",
    "    model.fit(partial_train_data, partial_train_targets,\n",
    "              epochs=num_epochs, batch_size=1, verbose=0)\n",
    "    # Evaluate the model on the validation data\n",
    "    val_mse, val_mae = model.evaluate(val_data, val_targets, verbose=0)\n",
    "    all_scores.append(val_mae)"
   ]
  },
  {
   "cell_type": "code",
   "execution_count": 16,
   "metadata": {},
   "outputs": [
    {
     "data": {
      "text/plain": [
       "[2.113312747218821, 2.1556942887825543, 2.9771997480109187, 2.3096999360783266]"
      ]
     },
     "execution_count": 16,
     "metadata": {},
     "output_type": "execute_result"
    }
   ],
   "source": [
    "all_scores"
   ]
  },
  {
   "cell_type": "code",
   "execution_count": 17,
   "metadata": {},
   "outputs": [
    {
     "data": {
      "text/plain": [
       "2.388976680022655"
      ]
     },
     "execution_count": 17,
     "metadata": {},
     "output_type": "execute_result"
    }
   ],
   "source": [
    "np.mean(all_scores)"
   ]
  },
  {
   "cell_type": "markdown",
   "metadata": {},
   "source": [
    "\n",
    "As you can notice, the different runs do indeed show rather different validation scores, from 2.0 to 2.9. Their average is a much more \n",
    "reliable metric than any single of these scores -- that's the entire point of K-fold cross-validation. In this case, we are off by \\$2,300 on \n",
    "average, which is still significant considering that the prices range from \\$10,000 to \\$50,000. "
   ]
  },
  {
   "cell_type": "code",
   "execution_count": 18,
   "metadata": {},
   "outputs": [],
   "source": [
    "from keras import backend as K\n",
    "\n",
    "# Some memory clean-up\n",
    "K.clear_session()"
   ]
  },
  {
   "cell_type": "markdown",
   "metadata": {},
   "source": [
    "# Let’s try training the network with 500 epochs \n",
    "\n",
    " plot and Building the history of successive mean K-fold validation scores\n"
   ]
  },
  {
   "cell_type": "code",
   "execution_count": 19,
   "metadata": {},
   "outputs": [
    {
     "name": "stdout",
     "output_type": "stream",
     "text": [
      "processing fold # 0\n",
      "processing fold # 1\n",
      "processing fold # 2\n",
      "processing fold # 3\n"
     ]
    }
   ],
   "source": [
    "num_epochs = 500\n",
    "all_mae_histories = []\n",
    "for i in range(k):\n",
    "    print('processing fold #', i)\n",
    "\n",
    "# Prepare the validation data: data from partition # k\n",
    "val_data = train_data[i * num_val_samples: (i + 1) * num_val_samples]\n",
    "val_targets = train_targets[i * num_val_samples: (i + 1) * num_val_samples]\n",
    "# Prepare the training data: data from all other partitions\n",
    "partial_train_data = np.concatenate(\n",
    "[train_data[:i * num_val_samples],\n",
    "train_data[(i + 1) * num_val_samples:]],\n",
    "axis=0)\n",
    "partial_train_targets = np.concatenate(\n",
    "[train_targets[:i * num_val_samples],\n",
    "train_targets[(i + 1) * num_val_samples:]],\n",
    "axis=0)\n",
    "# Build the Keras model (already compiled)\n",
    "model = build_model()\n",
    "# Train the model (in silent mode, verbose=0)\n",
    "history = model.fit(partial_train_data, partial_train_targets,\n",
    "validation_data=(val_data, val_targets),\n",
    "epochs=num_epochs, batch_size=1, verbose=0)\n",
    "mae_history = history.history['val_mean_absolute_error']\n",
    "all_mae_histories.append(mae_history)"
   ]
  },
  {
   "cell_type": "code",
   "execution_count": 23,
   "metadata": {
    "collapsed": true
   },
   "outputs": [],
   "source": [
    "average_mae_history = [\n",
    "np.mean([x[i] for x in all_mae_histories]) for i in range(num_epochs)]"
   ]
  },
  {
   "cell_type": "code",
   "execution_count": 26,
   "metadata": {
    "scrolled": true
   },
   "outputs": [
    {
     "data": {
      "image/png": "[encoded data removed]",
      "text/plain": [
       "<matplotlib.figure.Figure at 0x2272cfad128>"
      ]
     },
     "metadata": {},
     "output_type": "display_data"
    }
   ],
   "source": [
    "import matplotlib.pyplot as plt\n",
    "plt.plot(range(1, len(average_mae_history) + 1), average_mae_history)\n",
    "plt.xlabel('Epochs')\n",
    "plt.ylabel('Validation MAE')\n",
    "plt.show()"
   ]
  },
  {
   "cell_type": "markdown",
   "metadata": {},
   "source": [
    "# Smoothing\n",
    "\n",
    "Omit the first 10 data points that are on a different scale from the rest of the curve.\n",
    "Replace each point with an exponential moving average of the previous points, to obtain\n",
    "a smooth curve."
   ]
  },
  {
   "cell_type": "code",
   "execution_count": 27,
   "metadata": {},
   "outputs": [
    {
     "data": {
      "image/png": "[encoded data removed]",
      "text/plain": [
       "<matplotlib.figure.Figure at 0x2272d0da710>"
      ]
     },
     "metadata": {},
     "output_type": "display_data"
    }
   ],
   "source": [
    "def smooth_curve(points, factor=0.9):\n",
    "  smoothed_points = []\n",
    "  for point in points:\n",
    "    if smoothed_points:\n",
    "      previous = smoothed_points[-1]\n",
    "      smoothed_points.append(previous * factor + point * (1 - factor))\n",
    "    else:\n",
    "      smoothed_points.append(point)\n",
    "  return smoothed_points\n",
    "\n",
    "smooth_mae_history = smooth_curve(average_mae_history[10:])\n",
    "\n",
    "plt.plot(range(1, len(smooth_mae_history) + 1), smooth_mae_history)\n",
    "plt.xlabel('Epochs')\n",
    "plt.ylabel('Validation MAE')\n",
    "plt.show()"
   ]
  },
  {
   "cell_type": "code",
   "execution_count": 38,
   "metadata": {},
   "outputs": [
    {
     "name": "stdout",
     "output_type": "stream",
     "text": [
      "102/102 [==============================] - 0s 615us/step\n"
     ]
    }
   ],
   "source": [
    "#Get a fresh, compiled model.\n",
    "model1 = build_model()\n",
    "# Train it on the entirety of the data.\n",
    "model1.fit(train_data, train_targets,epochs=80, batch_size=16, verbose=0)\n",
    "test_mse_score1, test_mae_score1 = model1.evaluate(test_data, test_targets)"
   ]
  },
  {
   "cell_type": "code",
   "execution_count": 39,
   "metadata": {},
   "outputs": [
    {
     "data": {
      "text/plain": [
       "2.7091367384966683"
      ]
     },
     "execution_count": 39,
     "metadata": {},
     "output_type": "execute_result"
    }
   ],
   "source": [
    "test_mae_score"
   ]
  },
  {
   "cell_type": "code",
   "execution_count": 40,
   "metadata": {},
   "outputs": [
    {
     "name": "stdout",
     "output_type": "stream",
     "text": [
      "102/102 [==============================] - 0s 659us/step\n"
     ]
    }
   ],
   "source": [
    "model2 = build_model()\n",
    "\n",
    "model2.fit(train_data, train_targets,epochs=100, batch_size=8, verbose=0)\n",
    "test_mse_score2, test_mae_score2 = model2.evaluate(test_data, test_targets)"
   ]
  },
  {
   "cell_type": "code",
   "execution_count": 41,
   "metadata": {},
   "outputs": [
    {
     "data": {
      "text/plain": [
       "2.563603952819226"
      ]
     },
     "execution_count": 41,
     "metadata": {},
     "output_type": "execute_result"
    }
   ],
   "source": [
    "test_mae_score2"
   ]
  },
  {
   "cell_type": "code",
   "execution_count": 44,
   "metadata": {},
   "outputs": [
    {
     "name": "stdout",
     "output_type": "stream",
     "text": [
      "102/102 [==============================] - 0s 657us/step\n"
     ]
    }
   ],
   "source": [
    "model3 = build_model()\n",
    "\n",
    "model3.fit(train_data, train_targets,epochs=200, batch_size=8, verbose=0)\n",
    "test_mse_score3, test_mae_score3 = model3.evaluate(test_data, test_targets)"
   ]
  },
  {
   "cell_type": "code",
   "execution_count": 45,
   "metadata": {},
   "outputs": [
    {
     "data": {
      "text/plain": [
       "2.6934188113493076"
      ]
     },
     "execution_count": 45,
     "metadata": {},
     "output_type": "execute_result"
    }
   ],
   "source": [
    "test_mae_score3"
   ]
  },
  {
   "cell_type": "code",
   "execution_count": 46,
   "metadata": {},
   "outputs": [
    {
     "data": {
      "text/plain": [
       "array([[ 9.969848 ],\n",
       "       [19.61169  ],\n",
       "       [21.033535 ],\n",
       "       [35.779613 ],\n",
       "       [24.87347  ],\n",
       "       [23.85569  ],\n",
       "       [29.840763 ],\n",
       "       [22.610313 ],\n",
       "       [20.494308 ],\n",
       "       [21.356989 ],\n",
       "       [22.879135 ],\n",
       "       [18.300678 ],\n",
       "       [14.725566 ],\n",
       "       [45.645557 ],\n",
       "       [19.428947 ],\n",
       "       [21.862656 ],\n",
       "       [26.537651 ],\n",
       "       [19.367126 ],\n",
       "       [19.2766   ],\n",
       "       [23.629852 ],\n",
       "       [12.463325 ],\n",
       "       [12.559619 ],\n",
       "       [21.347628 ],\n",
       "       [14.237146 ],\n",
       "       [21.319921 ],\n",
       "       [24.645576 ],\n",
       "       [29.288181 ],\n",
       "       [33.104214 ],\n",
       "       [13.271537 ],\n",
       "       [19.703564 ],\n",
       "       [20.034431 ],\n",
       "       [16.051664 ],\n",
       "       [36.03909  ],\n",
       "       [24.724903 ],\n",
       "       [19.957355 ],\n",
       "       [ 9.146233 ],\n",
       "       [19.870493 ],\n",
       "       [17.866573 ],\n",
       "       [18.612766 ],\n",
       "       [28.56472  ],\n",
       "       [33.78098  ],\n",
       "       [28.75057  ],\n",
       "       [13.747988 ],\n",
       "       [47.34348  ],\n",
       "       [30.686743 ],\n",
       "       [28.693207 ],\n",
       "       [29.600885 ],\n",
       "       [20.434145 ],\n",
       "       [22.637966 ],\n",
       "       [22.972233 ],\n",
       "       [38.264606 ],\n",
       "       [20.866982 ],\n",
       "       [11.602246 ],\n",
       "       [13.465214 ],\n",
       "       [39.31058  ],\n",
       "       [29.8525   ],\n",
       "       [12.403874 ],\n",
       "       [52.058033 ],\n",
       "       [36.97551  ],\n",
       "       [25.520288 ],\n",
       "       [21.34433  ],\n",
       "       [15.8291235],\n",
       "       [17.082079 ],\n",
       "       [21.28048  ],\n",
       "       [24.887486 ],\n",
       "       [23.186989 ],\n",
       "       [15.307403 ],\n",
       "       [24.136843 ],\n",
       "       [14.912311 ],\n",
       "       [ 8.556659 ],\n",
       "       [20.419018 ],\n",
       "       [31.499744 ],\n",
       "       [26.024532 ],\n",
       "       [13.376588 ],\n",
       "       [27.675777 ],\n",
       "       [21.603168 ],\n",
       "       [18.756868 ],\n",
       "       [24.579338 ],\n",
       "       [39.641438 ],\n",
       "       [12.408744 ],\n",
       "       [23.813705 ],\n",
       "       [40.373035 ],\n",
       "       [16.557606 ],\n",
       "       [14.047284 ],\n",
       "       [17.946766 ],\n",
       "       [18.371023 ],\n",
       "       [24.650372 ],\n",
       "       [21.84285  ],\n",
       "       [24.610268 ],\n",
       "       [24.171274 ],\n",
       "       [20.914133 ],\n",
       "       [20.48005  ],\n",
       "       [26.968973 ],\n",
       "       [43.205227 ],\n",
       "       [40.589283 ],\n",
       "       [23.22672  ],\n",
       "       [37.400192 ],\n",
       "       [37.59941  ],\n",
       "       [26.62104  ],\n",
       "       [46.7795   ],\n",
       "       [29.762352 ],\n",
       "       [19.447811 ]], dtype=float32)"
      ]
     },
     "execution_count": 46,
     "metadata": {},
     "output_type": "execute_result"
    }
   ],
   "source": [
    "y_pred = model3.predict(test_data)\n",
    "y_pred"
   ]
  },
  {
   "cell_type": "markdown",
   "metadata": {},
   "source": [
    "1.Regression is done using different loss functions from classification; Mean Squared Error (MSE) is a commonly used loss function for regression.\n",
    "\n",
    "2.Similarly, evaluation metrics to be used for regression differ from those used for classification; naturally the concept of \"accuracy\" does not apply for regression. A common regression metric is Mean Absolute Error (MAE).\n",
    "\n",
    "3.When features in the input data have values in different ranges, each feature should be scaled independently as a preprocessing step.\n",
    "\n",
    "4.When there is little data available, using K-Fold validation is a great way to reliably evaluate a model.\n",
    "\n",
    "5.When little training data is available, it is preferable to use a small network with very few hidden layers (typically only one or two), in order to avoid severe overfitting."
   ]
  },
  {
   "cell_type": "code",
   "execution_count": null,
   "metadata": {
    "collapsed": true
   },
   "outputs": [],
   "source": []
  }
 ],
 "metadata": {
  "kernelspec": {
   "display_name": "Python 3",
   "language": "python",
   "name": "python3"
  },
  "language_info": {
   "codemirror_mode": {
    "name": "ipython",
    "version": 3
   },
   "file_extension": ".py",
   "mimetype": "text/x-python",
   "name": "python",
   "nbconvert_exporter": "python",
   "pygments_lexer": "ipython3",
   "version": "3.6.1"
  }
 },
 "nbformat": 4,
 "nbformat_minor": 2
}
